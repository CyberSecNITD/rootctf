{
 "cells": [
  {
   "cell_type": "markdown",
   "metadata": {},
   "source": [
    "# Solution to \"Strange Operations\"\n",
    "\n",
    "_Strange Operations_, a reverse engineering question on python programming.\n",
    "\n",
    "## Question\n",
    "Python has its strange sides.\n",
    "This code gives `QRYLFHROOFFICBLE888` for `NOVICEOL`.\n",
    "A Fellow Pythonista gave me `LDPGIODJOFFICBLE888`\n",
    "\n",
    "Here is the code in `tf.py`"
   ]
  },
  {
   "cell_type": "code",
   "execution_count": 1,
   "metadata": {},
   "outputs": [
    {
     "name": "stdout",
     "output_type": "stream",
     "text": [
      "QRYLFHROOFFICBLE888\n"
     ]
    }
   ],
   "source": [
    "import string\n",
    "\n",
    "tf1 = lambda x: x and True\n",
    "tf2 = lambda x: x or True\n",
    "tf3 = lambda x: True or x\n",
    "tf4 = lambda x: True and x\n",
    "\n",
    "tf5 = lambda x: x and False\n",
    "tf6 = lambda x: x or False\n",
    "tf7 = lambda x: False or x\n",
    "tf8 = lambda x: False and x\n",
    "\n",
    "template = string.ascii_uppercase\n",
    "\n",
    "def play1(x):\n",
    "\n",
    "    if tf1(x): return string.maketrans(template, template[x:]+template[:x])\n",
    "    else: return \"HOLAHOLA\"\n",
    "\n",
    "def play2(x):\n",
    "\n",
    "    if tf5(x): return string.maketrans(template[:12]+template[12:], template)\n",
    "    else: return \"OFFICBLE\"\n",
    "\n",
    "def play3(x): \n",
    "\n",
    "    return tf6(x) + tf4(x)\n",
    "\n",
    "if __name__ == \"__main__\":\n",
    "\n",
    "    x1, x2, x3 = 3, 1, 4 \n",
    "    in_data = \"NOVICEOL\"\n",
    "print string.translate(in_data, play1(x1)) + play2(x2) + str(play3(x3))*3"
   ]
  },
  {
   "cell_type": "markdown",
   "metadata": {},
   "source": [
    "The question has to do with how python evaluates boolean operations `and` and `or`.\n",
    "\n",
    "In the above code, the lambdas `tf1, tf2, tf3, tf4, tf5, tf6, tf7, tf8` accept single argument of any datatype, returns a bool.\n",
    "\n",
    "Note `tf2` and `tf3`, don't they seem to be similar?\n",
    "**Boolean operations are commutative** from Boolean Algebra. \n",
    "\n",
    "But Python treats them differently. Look at the following example"
   ]
  },
  {
   "cell_type": "code",
   "execution_count": 2,
   "metadata": {},
   "outputs": [
    {
     "data": {
      "text/plain": [
       "2"
      ]
     },
     "execution_count": 2,
     "metadata": {},
     "output_type": "execute_result"
    }
   ],
   "source": [
    "tf2(2)"
   ]
  },
  {
   "cell_type": "code",
   "execution_count": 3,
   "metadata": {},
   "outputs": [
    {
     "data": {
      "text/plain": [
       "True"
      ]
     },
     "execution_count": 3,
     "metadata": {},
     "output_type": "execute_result"
    }
   ],
   "source": [
    "tf3(2)"
   ]
  },
  {
   "cell_type": "markdown",
   "metadata": {},
   "source": [
    "The result is dependent to the order of operands used."
   ]
  },
  {
   "cell_type": "code",
   "execution_count": 4,
   "metadata": {},
   "outputs": [
    {
     "data": {
      "text/plain": [
       "False"
      ]
     },
     "execution_count": 4,
     "metadata": {},
     "output_type": "execute_result"
    }
   ],
   "source": [
    "2 == True"
   ]
  },
  {
   "cell_type": "code",
   "execution_count": 5,
   "metadata": {},
   "outputs": [
    {
     "data": {
      "text/plain": [
       "False"
      ]
     },
     "execution_count": 5,
     "metadata": {},
     "output_type": "execute_result"
    }
   ],
   "source": [
    "2 is True"
   ]
  },
  {
   "cell_type": "markdown",
   "metadata": {},
   "source": [
    "And `2` is not `True`. **Python treats boolean expression to be non commutative**\n",
    "\n",
    "## How to Solve the Question\n",
    "\n",
    "*Brute force ftw*, though essence of ReverseEngineering is analysing the code, understanding the functions `play1, play2, play3` they are simple `if else` statement that returns `string.maketrans` object. \n",
    "\n",
    "In the code, it seems clear that\n",
    "\n",
    "+ `tf5` always returns False\n",
    "+ `tf1` always returns True\n",
    "+ Due to 1st, `play2` will always return \"OFFICBLE\" string and due to 2nd, `play1` returns a `string.maketrans` object.\n",
    "+ `tf4` and `tf6` returns the input argument given, in this case a number\n",
    "\n",
    "With these inferences, looking at line 35:\n",
    "`print string.translate(in_data, play1(x1)) + play2(x2) + str(play3(x3))*3`\n",
    "\n",
    "Its a concatenation of the translation, string \"OFFICBLE\" and `x3+x3` converted to string repeated 3 times.\n",
    "\n",
    "To make things easy, its the `play1`function that has direct relation to the `in_data` due to 3rd point. The `string.maketrans` object shows a positive shift of by x times i.e `template[x:]+template[:x]`"
   ]
  },
  {
   "cell_type": "code",
   "execution_count": 11,
   "metadata": {},
   "outputs": [
    {
     "name": "stdout",
     "output_type": "stream",
     "text": [
      "ABCDEFGHIJKLMNOPQRSTUVWXYZ --> DEFGHIJKLMNOPQRSTUVWXYZABC\n"
     ]
    }
   ],
   "source": [
    "x = 3\n",
    "print template, \"-->\", template[x:]+template[:x]"
   ]
  },
  {
   "cell_type": "markdown",
   "metadata": {},
   "source": [
    "Interchange the argument of `string.maketrans` in `play1` func and input the first 8 characters of the given result i.e `LDPGIODJOFFICBLE888` which is `LDPGIODJ`."
   ]
  },
  {
   "cell_type": "code",
   "execution_count": 12,
   "metadata": {},
   "outputs": [
    {
     "name": "stdout",
     "output_type": "stream",
     "text": [
      "IAMDFLAG\n"
     ]
    }
   ],
   "source": [
    "out = \"LDPGIODJ\"\n",
    "rev_trans = string.maketrans(template[x:]+template[:x], template)\n",
    "print string.translate(out, rev_trans)"
   ]
  },
  {
   "cell_type": "markdown",
   "metadata": {},
   "source": [
    "Hence, the result is \"IAMDFLAG\". In the ctf webpage input the answer as `rootctf{IAMDFLAG}`"
   ]
  }
 ],
 "metadata": {
  "kernelspec": {
   "display_name": "Python 2",
   "language": "python",
   "name": "python2"
  },
  "language_info": {
   "codemirror_mode": {
    "name": "ipython",
    "version": 2
   },
   "file_extension": ".py",
   "mimetype": "text/x-python",
   "name": "python",
   "nbconvert_exporter": "python",
   "pygments_lexer": "ipython2",
   "version": "2.7.13"
  }
 },
 "nbformat": 4,
 "nbformat_minor": 2
}
